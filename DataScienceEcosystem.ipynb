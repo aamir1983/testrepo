{
 "cells": [
  {
   "cell_type": "markdown",
   "id": "fe5e5e64-582d-4116-a1c6-04ec10144eaf",
   "metadata": {
    "tags": []
   },
   "source": [
    "# Data Science Tools and Ecosystem\n",
    "In this notebook, Data Science Tools and Ecosystem are summarized."
   ]
  },
  {
   "cell_type": "markdown",
   "id": "117a7439-43c7-4271-9000-990f2503d397",
   "metadata": {
    "tags": []
   },
   "source": [
    "**Objectives:**\n",
    "* Create a Jupyter Notebook with markdown and code cells\n",
    "* List examples of languages, libraries and tools used in Data Science\n",
    "* Share your Jupyter Notebook publicly on GitHub\n",
    "* Evaluate notebooks submitted by your peers using the provided rubric\n",
    "* Demonstrate proficiency in Data Science toolkit knowledge"
   ]
  },
  {
   "cell_type": "markdown",
   "id": "07acd5fd-5f9f-4d83-9efe-80e7ddbb3be8",
   "metadata": {
    "tags": []
   },
   "source": [
    "Some of the popular languages that Data Scientists use are:\n",
    "1. R\n",
    "2. Python\n",
    "3. SQL\n",
    "4. Scala"
   ]
  },
  {
   "cell_type": "markdown",
   "id": "ca753643-854c-4437-92c6-f44f62544799",
   "metadata": {},
   "source": [
    "Some of the commonly used libraries used by Data Scientists include:\n",
    "1. Pandas\n",
    "2. NumPy - Python\n",
    "3. Matplotlib - Python\n",
    "4. Seaborn - Python\n",
    "5. Scikit-Leanr - Python\n",
    "6. vegas - Scala\n",
    "7. Big DL - Scala\n",
    "8. ggplot2 - R"
   ]
  },
  {
   "cell_type": "markdown",
   "id": "272f0759-4822-4b1a-9429-7a27d7d210f5",
   "metadata": {},
   "source": [
    "| Data Science Tools |\n",
    "| ------------------ |\n",
    "| RStudio |\n",
    "| Jupyter |\n",
    "| Jupyter Lab |\n",
    "| Apache Zeppelin |\n",
    "| Spyder |\n",
    "| Apache Spark |\n",
    "| Apache Flink |\n",
    "| Ray |"
   ]
  },
  {
   "cell_type": "markdown",
   "id": "d2331848-376c-478d-ae29-2f5628799197",
   "metadata": {},
   "source": [
    "### Below are a few examples of evaluating arithmetic expressions in Python"
   ]
  },
  {
   "cell_type": "code",
   "execution_count": 2,
   "id": "b60c774b-a349-44fd-9db0-a48c159cb846",
   "metadata": {
    "tags": []
   },
   "outputs": [
    {
     "data": {
      "text/plain": [
       "17"
      ]
     },
     "execution_count": 2,
     "metadata": {},
     "output_type": "execute_result"
    }
   ],
   "source": [
    "#This a simple arithmetic expression to mutiply then add integers\n",
    "(3*4)+5"
   ]
  },
  {
   "cell_type": "code",
   "execution_count": 5,
   "id": "61b44b00-73c6-46f7-a52a-c709212b99cf",
   "metadata": {
    "tags": []
   },
   "outputs": [
    {
     "name": "stdout",
     "output_type": "stream",
     "text": [
      "3.3333333333333335\n"
     ]
    }
   ],
   "source": [
    "#This will convert 200 minutes to hours by diving by 60\n",
    "m = 200\n",
    "h = m/60\n",
    "print (h)"
   ]
  },
  {
   "cell_type": "markdown",
   "id": "7637a3bf-f89c-494a-a663-567ad99dd0bc",
   "metadata": {},
   "source": [
    "## Author\n",
    "Aamir Bashir"
   ]
  }
 ],
 "metadata": {
  "kernelspec": {
   "display_name": "Python",
   "language": "python",
   "name": "conda-env-python-py"
  },
  "language_info": {
   "codemirror_mode": {
    "name": "ipython",
    "version": 3
   },
   "file_extension": ".py",
   "mimetype": "text/x-python",
   "name": "python",
   "nbconvert_exporter": "python",
   "pygments_lexer": "ipython3",
   "version": "3.7.12"
  }
 },
 "nbformat": 4,
 "nbformat_minor": 5
}
